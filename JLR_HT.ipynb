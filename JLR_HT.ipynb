{
  "nbformat": 4,
  "nbformat_minor": 0,
  "metadata": {
    "colab": {
      "provenance": []
    },
    "kernelspec": {
      "name": "python3",
      "display_name": "Python 3"
    },
    "language_info": {
      "name": "python"
    }
  },
  "cells": [
    {
      "cell_type": "code",
      "execution_count": 1,
      "metadata": {
        "id": "NjnVlVb5TDV0"
      },
      "outputs": [],
      "source": [
        "import numpy as np\n",
        "import pandas as pd\n",
        "from sklearn.model_selection import train_test_split\n",
        "from sklearn.preprocessing import StandardScaler\n",
        "import tensorflow as tf\n",
        "from tensorflow.keras.models import Sequential\n",
        "from tensorflow.keras.layers import Dense"
      ]
    },
    {
      "cell_type": "code",
      "source": [
        "# Define the dataset\n",
        "data = {\n",
        "    'Total_Mass': [0.84, 1.60, 2.10, 1.64, 1.64, 1.55, 1.35, 1.26, 1.30],\n",
        "    'Painted_Body_Colour': [0.00, 0.00, 0.14, 0.28, 0.00, 0.00, 0.14, 0.21, 0.27],\n",
        "    'Painted_Gloss_Black': [0.17, 0.17, 0.12, 0.00, 0.00, 0.25, 0.06, 0.05, 0.06],\n",
        "    'Grained_Plastic': [0.00, 0.00, 0.00, 0.00, 0.28, 0.00, 0.00, 0.00, 0.00],\n",
        "    'Job_1_Date': [2026, 2027, 2027, 2017, 2017, 2021, 2016, 2020, 2016],\n",
        "    'Country_of_Production': ['UK', 'UK', 'UK', 'SVK', 'SVK', 'UK', 'SVK', 'UK', 'UK'],\n",
        "    'Vehicle_Volume': [30000, 80000, 35000, 70000, 70000, 70000, 40000, 40000, 50000],\n",
        "    'Number_of_Parts_within_Construction': [2, 2, 4, 2, 2, 2, 3, 3, 3],\n",
        "    'Total_Cost': [20.15, 26.70, 38.35, 19.88, 9.12, 19.10, 17.82, 32.21, 22.81]\n",
        "}\n",
        "\n",
        "df = pd.DataFrame(data)"
      ],
      "metadata": {
        "id": "NnJKyGAqUBXv"
      },
      "execution_count": 2,
      "outputs": []
    },
    {
      "cell_type": "code",
      "source": [
        "# Calculate the target variables\n",
        "df['Total_Mass_per_kg'] = df['Total_Cost'] / df['Total_Mass']\n",
        "df['Painted_Body_Colour_per_kg'] = df['Total_Cost'] / df['Painted_Body_Colour'].replace(0, np.nan)\n",
        "df['Painted_Gloss_Black_per_kg'] = df['Total_Cost'] / df['Painted_Gloss_Black'].replace(0, np.nan)\n",
        "df['Grained_Plastic_per_kg'] = df['Total_Cost'] / df['Grained_Plastic'].replace(0, np.nan)\n"
      ],
      "metadata": {
        "id": "uYRZujeoUDnY"
      },
      "execution_count": 3,
      "outputs": []
    },
    {
      "cell_type": "code",
      "source": [
        "# Fill NaN values with zeros\n",
        "df.fillna(0, inplace=True)\n",
        "\n",
        "# Convert categorical data\n",
        "df = pd.get_dummies(df, columns=['Country_of_Production'], drop_first=True)"
      ],
      "metadata": {
        "id": "v5PLoFzbUHFR"
      },
      "execution_count": 4,
      "outputs": []
    },
    {
      "cell_type": "code",
      "source": [
        "# Define the features and target variables\n",
        "X = df.drop(['Total_Cost', 'Total_Mass_per_kg', 'Painted_Body_Colour_per_kg', 'Painted_Gloss_Black_per_kg', 'Grained_Plastic_per_kg'], axis=1)\n",
        "y = df[['Total_Mass_per_kg', 'Painted_Body_Colour_per_kg', 'Painted_Gloss_Black_per_kg', 'Grained_Plastic_per_kg']]\n",
        "\n",
        "# Split the data into training and testing sets\n",
        "X_train, X_test, y_train, y_test = train_test_split(X, y, test_size=0.2, random_state=42)"
      ],
      "metadata": {
        "id": "Mu71Ov6jUNqs"
      },
      "execution_count": 5,
      "outputs": []
    },
    {
      "cell_type": "code",
      "source": [
        " #Standardize the data\n",
        "scaler_X = StandardScaler()\n",
        "scaler_y = StandardScaler()\n",
        "\n",
        "X_train = scaler_X.fit_transform(X_train)\n",
        "X_test = scaler_X.transform(X_test)\n",
        "y_train = scaler_y.fit_transform(y_train)\n",
        "y_test = scaler_y.transform(y_test)"
      ],
      "metadata": {
        "id": "xm4KPppYUUOO"
      },
      "execution_count": 6,
      "outputs": []
    },
    {
      "cell_type": "code",
      "source": [
        "# Define the neural network model\n",
        "model = Sequential()\n",
        "model.add(Dense(64, input_dim=X_train.shape[1], activation='relu'))\n",
        "model.add(Dense(32, activation='relu'))\n",
        "model.add(Dense(16, activation='relu'))\n",
        "model.add(Dense(y_train.shape[1], activation='linear'))"
      ],
      "metadata": {
        "id": "CH13QblqUWV0"
      },
      "execution_count": 7,
      "outputs": []
    },
    {
      "cell_type": "markdown",
      "source": [],
      "metadata": {
        "id": "Le_zxW1KUdtH"
      }
    },
    {
      "cell_type": "code",
      "source": [
        "# Compile the model\n",
        "model.compile(optimizer='adam', loss='mean_squared_error')\n",
        "\n",
        "# Train the model\n",
        "model.fit(X_train, y_train, epochs=100, batch_size=10, validation_split=0.2)\n",
        "\n",
        "# Evaluate the model\n",
        "loss = model.evaluate(X_test, y_test)\n",
        "print(f\"Test Loss: {loss}\")\n"
      ],
      "metadata": {
        "colab": {
          "base_uri": "https://localhost:8080/"
        },
        "id": "yGtM7DlgUeSW",
        "outputId": "3d4113b4-9ce7-4c5a-b6b3-2272891816a1"
      },
      "execution_count": 8,
      "outputs": [
        {
          "output_type": "stream",
          "name": "stdout",
          "text": [
            "Epoch 1/100\n",
            "1/1 [==============================] - 1s 1s/step - loss: 1.2567 - val_loss: 0.4193\n",
            "Epoch 2/100\n",
            "1/1 [==============================] - 0s 35ms/step - loss: 1.1999 - val_loss: 0.4176\n",
            "Epoch 3/100\n",
            "1/1 [==============================] - 0s 34ms/step - loss: 1.1465 - val_loss: 0.4160\n",
            "Epoch 4/100\n",
            "1/1 [==============================] - 0s 42ms/step - loss: 1.0996 - val_loss: 0.4141\n",
            "Epoch 5/100\n",
            "1/1 [==============================] - 0s 35ms/step - loss: 1.0555 - val_loss: 0.4117\n",
            "Epoch 6/100\n",
            "1/1 [==============================] - 0s 34ms/step - loss: 1.0147 - val_loss: 0.4093\n",
            "Epoch 7/100\n",
            "1/1 [==============================] - 0s 32ms/step - loss: 0.9764 - val_loss: 0.4074\n",
            "Epoch 8/100\n",
            "1/1 [==============================] - 0s 33ms/step - loss: 0.9384 - val_loss: 0.4057\n",
            "Epoch 9/100\n",
            "1/1 [==============================] - 0s 36ms/step - loss: 0.9020 - val_loss: 0.4040\n",
            "Epoch 10/100\n",
            "1/1 [==============================] - 0s 36ms/step - loss: 0.8705 - val_loss: 0.4015\n",
            "Epoch 11/100\n",
            "1/1 [==============================] - 0s 36ms/step - loss: 0.8417 - val_loss: 0.3991\n",
            "Epoch 12/100\n",
            "1/1 [==============================] - 0s 34ms/step - loss: 0.8158 - val_loss: 0.3966\n",
            "Epoch 13/100\n",
            "1/1 [==============================] - 0s 33ms/step - loss: 0.7901 - val_loss: 0.3942\n",
            "Epoch 14/100\n",
            "1/1 [==============================] - 0s 34ms/step - loss: 0.7650 - val_loss: 0.3914\n",
            "Epoch 15/100\n",
            "1/1 [==============================] - 0s 35ms/step - loss: 0.7426 - val_loss: 0.3882\n",
            "Epoch 16/100\n",
            "1/1 [==============================] - 0s 38ms/step - loss: 0.7234 - val_loss: 0.3830\n",
            "Epoch 17/100\n",
            "1/1 [==============================] - 0s 34ms/step - loss: 0.7015 - val_loss: 0.3771\n",
            "Epoch 18/100\n",
            "1/1 [==============================] - 0s 33ms/step - loss: 0.6801 - val_loss: 0.3711\n",
            "Epoch 19/100\n",
            "1/1 [==============================] - 0s 34ms/step - loss: 0.6586 - val_loss: 0.3655\n",
            "Epoch 20/100\n",
            "1/1 [==============================] - 0s 39ms/step - loss: 0.6368 - val_loss: 0.3601\n",
            "Epoch 21/100\n",
            "1/1 [==============================] - 0s 34ms/step - loss: 0.6148 - val_loss: 0.3549\n",
            "Epoch 22/100\n",
            "1/1 [==============================] - 0s 33ms/step - loss: 0.5931 - val_loss: 0.3502\n",
            "Epoch 23/100\n",
            "1/1 [==============================] - 0s 39ms/step - loss: 0.5712 - val_loss: 0.3455\n",
            "Epoch 24/100\n",
            "1/1 [==============================] - 0s 38ms/step - loss: 0.5486 - val_loss: 0.3410\n",
            "Epoch 25/100\n",
            "1/1 [==============================] - 0s 35ms/step - loss: 0.5261 - val_loss: 0.3370\n",
            "Epoch 26/100\n",
            "1/1 [==============================] - 0s 37ms/step - loss: 0.5054 - val_loss: 0.3332\n",
            "Epoch 27/100\n",
            "1/1 [==============================] - 0s 31ms/step - loss: 0.4849 - val_loss: 0.3298\n",
            "Epoch 28/100\n",
            "1/1 [==============================] - 0s 32ms/step - loss: 0.4645 - val_loss: 0.3266\n",
            "Epoch 29/100\n",
            "1/1 [==============================] - 0s 32ms/step - loss: 0.4447 - val_loss: 0.3235\n",
            "Epoch 30/100\n",
            "1/1 [==============================] - 0s 40ms/step - loss: 0.4263 - val_loss: 0.3207\n",
            "Epoch 31/100\n",
            "1/1 [==============================] - 0s 43ms/step - loss: 0.4086 - val_loss: 0.3181\n",
            "Epoch 32/100\n",
            "1/1 [==============================] - 0s 45ms/step - loss: 0.3912 - val_loss: 0.3149\n",
            "Epoch 33/100\n",
            "1/1 [==============================] - 0s 42ms/step - loss: 0.3736 - val_loss: 0.3113\n",
            "Epoch 34/100\n",
            "1/1 [==============================] - 0s 38ms/step - loss: 0.3562 - val_loss: 0.3079\n",
            "Epoch 35/100\n",
            "1/1 [==============================] - 0s 46ms/step - loss: 0.3390 - val_loss: 0.3047\n",
            "Epoch 36/100\n",
            "1/1 [==============================] - 0s 47ms/step - loss: 0.3223 - val_loss: 0.3022\n",
            "Epoch 37/100\n",
            "1/1 [==============================] - 0s 39ms/step - loss: 0.3069 - val_loss: 0.3009\n",
            "Epoch 38/100\n",
            "1/1 [==============================] - 0s 38ms/step - loss: 0.2923 - val_loss: 0.2998\n",
            "Epoch 39/100\n",
            "1/1 [==============================] - 0s 43ms/step - loss: 0.2782 - val_loss: 0.2991\n",
            "Epoch 40/100\n",
            "1/1 [==============================] - 0s 45ms/step - loss: 0.2646 - val_loss: 0.2991\n",
            "Epoch 41/100\n",
            "1/1 [==============================] - 0s 37ms/step - loss: 0.2514 - val_loss: 0.2995\n",
            "Epoch 42/100\n",
            "1/1 [==============================] - 0s 33ms/step - loss: 0.2388 - val_loss: 0.3002\n",
            "Epoch 43/100\n",
            "1/1 [==============================] - 0s 33ms/step - loss: 0.2267 - val_loss: 0.3011\n",
            "Epoch 44/100\n",
            "1/1 [==============================] - 0s 32ms/step - loss: 0.2154 - val_loss: 0.3023\n",
            "Epoch 45/100\n",
            "1/1 [==============================] - 0s 33ms/step - loss: 0.2046 - val_loss: 0.3039\n",
            "Epoch 46/100\n",
            "1/1 [==============================] - 0s 32ms/step - loss: 0.1943 - val_loss: 0.3058\n",
            "Epoch 47/100\n",
            "1/1 [==============================] - 0s 34ms/step - loss: 0.1846 - val_loss: 0.3079\n",
            "Epoch 48/100\n",
            "1/1 [==============================] - 0s 44ms/step - loss: 0.1753 - val_loss: 0.3100\n",
            "Epoch 49/100\n",
            "1/1 [==============================] - 0s 36ms/step - loss: 0.1662 - val_loss: 0.3122\n",
            "Epoch 50/100\n",
            "1/1 [==============================] - 0s 40ms/step - loss: 0.1571 - val_loss: 0.3145\n",
            "Epoch 51/100\n",
            "1/1 [==============================] - 0s 35ms/step - loss: 0.1479 - val_loss: 0.3169\n",
            "Epoch 52/100\n",
            "1/1 [==============================] - 0s 33ms/step - loss: 0.1389 - val_loss: 0.3194\n",
            "Epoch 53/100\n",
            "1/1 [==============================] - 0s 34ms/step - loss: 0.1301 - val_loss: 0.3218\n",
            "Epoch 54/100\n",
            "1/1 [==============================] - 0s 43ms/step - loss: 0.1217 - val_loss: 0.3242\n",
            "Epoch 55/100\n",
            "1/1 [==============================] - 0s 47ms/step - loss: 0.1136 - val_loss: 0.3267\n",
            "Epoch 56/100\n",
            "1/1 [==============================] - 0s 43ms/step - loss: 0.1060 - val_loss: 0.3292\n",
            "Epoch 57/100\n",
            "1/1 [==============================] - 0s 63ms/step - loss: 0.0986 - val_loss: 0.3318\n",
            "Epoch 58/100\n",
            "1/1 [==============================] - 0s 40ms/step - loss: 0.0915 - val_loss: 0.3345\n",
            "Epoch 59/100\n",
            "1/1 [==============================] - 0s 34ms/step - loss: 0.0850 - val_loss: 0.3371\n",
            "Epoch 60/100\n",
            "1/1 [==============================] - 0s 36ms/step - loss: 0.0789 - val_loss: 0.3395\n",
            "Epoch 61/100\n",
            "1/1 [==============================] - 0s 36ms/step - loss: 0.0731 - val_loss: 0.3419\n",
            "Epoch 62/100\n",
            "1/1 [==============================] - 0s 34ms/step - loss: 0.0677 - val_loss: 0.3443\n",
            "Epoch 63/100\n",
            "1/1 [==============================] - 0s 37ms/step - loss: 0.0626 - val_loss: 0.3467\n",
            "Epoch 64/100\n",
            "1/1 [==============================] - 0s 43ms/step - loss: 0.0579 - val_loss: 0.3492\n",
            "Epoch 65/100\n",
            "1/1 [==============================] - 0s 41ms/step - loss: 0.0534 - val_loss: 0.3517\n",
            "Epoch 66/100\n",
            "1/1 [==============================] - 0s 35ms/step - loss: 0.0494 - val_loss: 0.3546\n",
            "Epoch 67/100\n",
            "1/1 [==============================] - 0s 72ms/step - loss: 0.0456 - val_loss: 0.3575\n",
            "Epoch 68/100\n",
            "1/1 [==============================] - 0s 62ms/step - loss: 0.0423 - val_loss: 0.3605\n",
            "Epoch 69/100\n",
            "1/1 [==============================] - 0s 64ms/step - loss: 0.0392 - val_loss: 0.3639\n",
            "Epoch 70/100\n",
            "1/1 [==============================] - 0s 49ms/step - loss: 0.0363 - val_loss: 0.3675\n",
            "Epoch 71/100\n",
            "1/1 [==============================] - 0s 64ms/step - loss: 0.0337 - val_loss: 0.3711\n",
            "Epoch 72/100\n",
            "1/1 [==============================] - 0s 45ms/step - loss: 0.0312 - val_loss: 0.3747\n",
            "Epoch 73/100\n",
            "1/1 [==============================] - 0s 44ms/step - loss: 0.0289 - val_loss: 0.3783\n",
            "Epoch 74/100\n",
            "1/1 [==============================] - 0s 64ms/step - loss: 0.0267 - val_loss: 0.3820\n",
            "Epoch 75/100\n",
            "1/1 [==============================] - 0s 70ms/step - loss: 0.0247 - val_loss: 0.3852\n",
            "Epoch 76/100\n",
            "1/1 [==============================] - 0s 58ms/step - loss: 0.0228 - val_loss: 0.3885\n",
            "Epoch 77/100\n",
            "1/1 [==============================] - 0s 68ms/step - loss: 0.0211 - val_loss: 0.3918\n",
            "Epoch 78/100\n",
            "1/1 [==============================] - 0s 83ms/step - loss: 0.0196 - val_loss: 0.3951\n",
            "Epoch 79/100\n",
            "1/1 [==============================] - 0s 41ms/step - loss: 0.0182 - val_loss: 0.3984\n",
            "Epoch 80/100\n",
            "1/1 [==============================] - 0s 40ms/step - loss: 0.0169 - val_loss: 0.4017\n",
            "Epoch 81/100\n",
            "1/1 [==============================] - 0s 41ms/step - loss: 0.0158 - val_loss: 0.4048\n",
            "Epoch 82/100\n",
            "1/1 [==============================] - 0s 41ms/step - loss: 0.0148 - val_loss: 0.4079\n",
            "Epoch 83/100\n",
            "1/1 [==============================] - 0s 41ms/step - loss: 0.0139 - val_loss: 0.4110\n",
            "Epoch 84/100\n",
            "1/1 [==============================] - 0s 51ms/step - loss: 0.0131 - val_loss: 0.4140\n",
            "Epoch 85/100\n",
            "1/1 [==============================] - 0s 41ms/step - loss: 0.0124 - val_loss: 0.4168\n",
            "Epoch 86/100\n",
            "1/1 [==============================] - 0s 53ms/step - loss: 0.0118 - val_loss: 0.4196\n",
            "Epoch 87/100\n",
            "1/1 [==============================] - 0s 70ms/step - loss: 0.0112 - val_loss: 0.4222\n",
            "Epoch 88/100\n",
            "1/1 [==============================] - 0s 68ms/step - loss: 0.0107 - val_loss: 0.4247\n",
            "Epoch 89/100\n",
            "1/1 [==============================] - 0s 60ms/step - loss: 0.0102 - val_loss: 0.4271\n",
            "Epoch 90/100\n",
            "1/1 [==============================] - 0s 61ms/step - loss: 0.0097 - val_loss: 0.4293\n",
            "Epoch 91/100\n",
            "1/1 [==============================] - 0s 70ms/step - loss: 0.0093 - val_loss: 0.4315\n",
            "Epoch 92/100\n",
            "1/1 [==============================] - 0s 70ms/step - loss: 0.0089 - val_loss: 0.4337\n",
            "Epoch 93/100\n",
            "1/1 [==============================] - 0s 68ms/step - loss: 0.0084 - val_loss: 0.4357\n",
            "Epoch 94/100\n",
            "1/1 [==============================] - 0s 64ms/step - loss: 0.0081 - val_loss: 0.4378\n",
            "Epoch 95/100\n",
            "1/1 [==============================] - 0s 74ms/step - loss: 0.0077 - val_loss: 0.4398\n",
            "Epoch 96/100\n",
            "1/1 [==============================] - 0s 69ms/step - loss: 0.0073 - val_loss: 0.4417\n",
            "Epoch 97/100\n",
            "1/1 [==============================] - 0s 75ms/step - loss: 0.0069 - val_loss: 0.4437\n",
            "Epoch 98/100\n",
            "1/1 [==============================] - 0s 70ms/step - loss: 0.0066 - val_loss: 0.4457\n",
            "Epoch 99/100\n",
            "1/1 [==============================] - 0s 44ms/step - loss: 0.0062 - val_loss: 0.4477\n",
            "Epoch 100/100\n",
            "1/1 [==============================] - 0s 51ms/step - loss: 0.0059 - val_loss: 0.4497\n",
            "1/1 [==============================] - 0s 34ms/step - loss: 1.2468\n",
            "Test Loss: 1.2468483448028564\n"
          ]
        }
      ]
    },
    {
      "cell_type": "code",
      "source": [
        "# Predict the costs for new car models\n",
        "new_car_models = {\n",
        "    'Total_Mass': [1.70, 1.50],\n",
        "    'Painted_Body_Colour': [0.10, 0.19],\n",
        "    'Painted_Gloss_Black': [0.1, 0.0],\n",
        "    'Grained_Plastic': [0.0, 0.0],\n",
        "    'Job_1_Date': [2028, 2028],\n",
        "    'Country_of_Production_UK': [1, 1],\n",
        "    'Vehicle_Volume': [40000, 60000],\n",
        "    'Number_of_Parts_within_Construction': [3, 2]\n",
        "}\n"
      ],
      "metadata": {
        "id": "XvSiqRorUkKA"
      },
      "execution_count": 10,
      "outputs": []
    },
    {
      "cell_type": "code",
      "source": [
        "new_df = pd.DataFrame(new_car_models, columns=X.columns)\n",
        "new_df = scaler_X.transform(new_df)\n",
        "\n",
        "predictions = model.predict(new_df)\n",
        "predictions = scaler_y.inverse_transform(predictions)\n",
        "print(f\"Predicted Costs per kg: {predictions}\")"
      ],
      "metadata": {
        "colab": {
          "base_uri": "https://localhost:8080/"
        },
        "id": "nsWJlodJUrE-",
        "outputId": "105aeb4f-3e98-4a1a-aa35-3030bc8b93eb"
      },
      "execution_count": 11,
      "outputs": [
        {
          "output_type": "stream",
          "name": "stdout",
          "text": [
            "1/1 [==============================] - 0s 97ms/step\n",
            "Predicted Costs per kg: [[ 18.708494  138.00943   232.72104     2.1095822]\n",
            " [ 14.031092   63.58525   199.97932     4.6391373]]\n"
          ]
        }
      ]
    },
    {
      "cell_type": "code",
      "source": [
        "# Calculate the total cost for the two new cars\n",
        "new_car_models['Total_Cost_Predicted'] = []\n",
        "\n",
        "for i in range(len(new_car_models['Total_Mass'])):\n",
        "    total_cost = (\n",
        "        new_car_models['Total_Mass'][i] * predictions[i, 0] +\n",
        "        new_car_models['Painted_Body_Colour'][i] * predictions[i, 1] +\n",
        "        new_car_models['Painted_Gloss_Black'][i] * predictions[i, 2] +\n",
        "        new_car_models['Grained_Plastic'][i] * predictions[i, 3]\n",
        "    )\n",
        "    new_car_models['Total_Cost_Predicted'].append(total_cost)\n",
        "\n",
        "print(f\"Predicted Total Costs: {new_car_models['Total_Cost_Predicted']}\")"
      ],
      "metadata": {
        "colab": {
          "base_uri": "https://localhost:8080/"
        },
        "id": "wJBcd_HIVx3O",
        "outputId": "30a5cbd4-7f72-430b-f364-9fc76ca21411"
      },
      "execution_count": 12,
      "outputs": [
        {
          "output_type": "stream",
          "name": "stdout",
          "text": [
            "Predicted Total Costs: [68.87748699188234, 33.12783519744873]\n"
          ]
        }
      ]
    }
  ]
}